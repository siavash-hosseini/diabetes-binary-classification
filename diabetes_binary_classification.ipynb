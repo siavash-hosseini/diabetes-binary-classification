{
  "nbformat": 4,
  "nbformat_minor": 0,
  "metadata": {
    "colab": {
      "provenance": []
    },
    "kernelspec": {
      "name": "python3",
      "display_name": "Python 3"
    },
    "language_info": {
      "name": "python"
    }
  },
  "cells": [
    {
      "cell_type": "code",
      "execution_count": null,
      "metadata": {
        "id": "PJE0NfBeHNYQ"
      },
      "outputs": [],
      "source": [
        "import numpy as np\n",
        "import pandas as pd\n",
        "import matplotlib.pyplot as plt\n",
        "\n",
        "import tensorflow as tf\n",
        "import tensorflow.keras\n",
        "from tensorflow.keras import layers\n",
        "from sklearn.model_selection import train_test_split\n",
        "from sklearn.preprocessing import StandardScaler\n",
        "from sklearn.preprocessing import OneHotEncoder\n",
        "\n"
      ]
    },
    {
      "cell_type": "code",
      "source": [
        "drive.mount('/content/drive')"
      ],
      "metadata": {
        "colab": {
          "base_uri": "https://localhost:8080/"
        },
        "id": "v-b-hvb8HZyO",
        "outputId": "878ccd38-fdb8-4c4b-add2-873d4979ca8d"
      },
      "execution_count": null,
      "outputs": [
        {
          "output_type": "stream",
          "name": "stdout",
          "text": [
            "Mounted at /content/drive\n"
          ]
        }
      ]
    },
    {
      "cell_type": "code",
      "source": [
        "from google.colab import drive\n",
        "drive.mount('/content/drive')"
      ],
      "metadata": {
        "colab": {
          "base_uri": "https://localhost:8080/"
        },
        "outputId": "bf17e93c-a857-4b70-f808-82c3d3da770d",
        "id": "S9er09fqMO2Z"
      },
      "execution_count": null,
      "outputs": [
        {
          "output_type": "stream",
          "name": "stdout",
          "text": [
            "Mounted at /content/drive\n"
          ]
        }
      ]
    },
    {
      "cell_type": "code",
      "source": [
        "df = pd.read_csv('/content/drive/MyDrive/diabetes.csv')"
      ],
      "metadata": {
        "id": "bNCJ50xIHiuL"
      },
      "execution_count": null,
      "outputs": []
    },
    {
      "cell_type": "code",
      "source": [
        "df.head(10)"
      ],
      "metadata": {
        "colab": {
          "base_uri": "https://localhost:8080/",
          "height": 363
        },
        "id": "reii6EgWH1kg",
        "outputId": "558f0dfc-2bf2-46be-94cb-c732e5fb2607"
      },
      "execution_count": null,
      "outputs": [
        {
          "output_type": "execute_result",
          "data": {
            "text/html": [
              "\n",
              "  <div id=\"df-82ea552d-31be-4c9a-81ee-a565444fe754\">\n",
              "    <div class=\"colab-df-container\">\n",
              "      <div>\n",
              "<style scoped>\n",
              "    .dataframe tbody tr th:only-of-type {\n",
              "        vertical-align: middle;\n",
              "    }\n",
              "\n",
              "    .dataframe tbody tr th {\n",
              "        vertical-align: top;\n",
              "    }\n",
              "\n",
              "    .dataframe thead th {\n",
              "        text-align: right;\n",
              "    }\n",
              "</style>\n",
              "<table border=\"1\" class=\"dataframe\">\n",
              "  <thead>\n",
              "    <tr style=\"text-align: right;\">\n",
              "      <th></th>\n",
              "      <th>Pregnancies</th>\n",
              "      <th>Glucose</th>\n",
              "      <th>BloodPressure</th>\n",
              "      <th>SkinThickness</th>\n",
              "      <th>Insulin</th>\n",
              "      <th>BMI</th>\n",
              "      <th>DiabetesPedigreeFunction</th>\n",
              "      <th>Age</th>\n",
              "      <th>Outcome</th>\n",
              "    </tr>\n",
              "  </thead>\n",
              "  <tbody>\n",
              "    <tr>\n",
              "      <th>0</th>\n",
              "      <td>6</td>\n",
              "      <td>148</td>\n",
              "      <td>72</td>\n",
              "      <td>35</td>\n",
              "      <td>0</td>\n",
              "      <td>33.6</td>\n",
              "      <td>0.627</td>\n",
              "      <td>50</td>\n",
              "      <td>1</td>\n",
              "    </tr>\n",
              "    <tr>\n",
              "      <th>1</th>\n",
              "      <td>1</td>\n",
              "      <td>85</td>\n",
              "      <td>66</td>\n",
              "      <td>29</td>\n",
              "      <td>0</td>\n",
              "      <td>26.6</td>\n",
              "      <td>0.351</td>\n",
              "      <td>31</td>\n",
              "      <td>0</td>\n",
              "    </tr>\n",
              "    <tr>\n",
              "      <th>2</th>\n",
              "      <td>8</td>\n",
              "      <td>183</td>\n",
              "      <td>64</td>\n",
              "      <td>0</td>\n",
              "      <td>0</td>\n",
              "      <td>23.3</td>\n",
              "      <td>0.672</td>\n",
              "      <td>32</td>\n",
              "      <td>1</td>\n",
              "    </tr>\n",
              "    <tr>\n",
              "      <th>3</th>\n",
              "      <td>1</td>\n",
              "      <td>89</td>\n",
              "      <td>66</td>\n",
              "      <td>23</td>\n",
              "      <td>94</td>\n",
              "      <td>28.1</td>\n",
              "      <td>0.167</td>\n",
              "      <td>21</td>\n",
              "      <td>0</td>\n",
              "    </tr>\n",
              "    <tr>\n",
              "      <th>4</th>\n",
              "      <td>0</td>\n",
              "      <td>137</td>\n",
              "      <td>40</td>\n",
              "      <td>35</td>\n",
              "      <td>168</td>\n",
              "      <td>43.1</td>\n",
              "      <td>2.288</td>\n",
              "      <td>33</td>\n",
              "      <td>1</td>\n",
              "    </tr>\n",
              "    <tr>\n",
              "      <th>5</th>\n",
              "      <td>5</td>\n",
              "      <td>116</td>\n",
              "      <td>74</td>\n",
              "      <td>0</td>\n",
              "      <td>0</td>\n",
              "      <td>25.6</td>\n",
              "      <td>0.201</td>\n",
              "      <td>30</td>\n",
              "      <td>0</td>\n",
              "    </tr>\n",
              "    <tr>\n",
              "      <th>6</th>\n",
              "      <td>3</td>\n",
              "      <td>78</td>\n",
              "      <td>50</td>\n",
              "      <td>32</td>\n",
              "      <td>88</td>\n",
              "      <td>31.0</td>\n",
              "      <td>0.248</td>\n",
              "      <td>26</td>\n",
              "      <td>1</td>\n",
              "    </tr>\n",
              "    <tr>\n",
              "      <th>7</th>\n",
              "      <td>10</td>\n",
              "      <td>115</td>\n",
              "      <td>0</td>\n",
              "      <td>0</td>\n",
              "      <td>0</td>\n",
              "      <td>35.3</td>\n",
              "      <td>0.134</td>\n",
              "      <td>29</td>\n",
              "      <td>0</td>\n",
              "    </tr>\n",
              "    <tr>\n",
              "      <th>8</th>\n",
              "      <td>2</td>\n",
              "      <td>197</td>\n",
              "      <td>70</td>\n",
              "      <td>45</td>\n",
              "      <td>543</td>\n",
              "      <td>30.5</td>\n",
              "      <td>0.158</td>\n",
              "      <td>53</td>\n",
              "      <td>1</td>\n",
              "    </tr>\n",
              "    <tr>\n",
              "      <th>9</th>\n",
              "      <td>8</td>\n",
              "      <td>125</td>\n",
              "      <td>96</td>\n",
              "      <td>0</td>\n",
              "      <td>0</td>\n",
              "      <td>0.0</td>\n",
              "      <td>0.232</td>\n",
              "      <td>54</td>\n",
              "      <td>1</td>\n",
              "    </tr>\n",
              "  </tbody>\n",
              "</table>\n",
              "</div>\n",
              "      <button class=\"colab-df-convert\" onclick=\"convertToInteractive('df-82ea552d-31be-4c9a-81ee-a565444fe754')\"\n",
              "              title=\"Convert this dataframe to an interactive table.\"\n",
              "              style=\"display:none;\">\n",
              "        \n",
              "  <svg xmlns=\"http://www.w3.org/2000/svg\" height=\"24px\"viewBox=\"0 0 24 24\"\n",
              "       width=\"24px\">\n",
              "    <path d=\"M0 0h24v24H0V0z\" fill=\"none\"/>\n",
              "    <path d=\"M18.56 5.44l.94 2.06.94-2.06 2.06-.94-2.06-.94-.94-2.06-.94 2.06-2.06.94zm-11 1L8.5 8.5l.94-2.06 2.06-.94-2.06-.94L8.5 2.5l-.94 2.06-2.06.94zm10 10l.94 2.06.94-2.06 2.06-.94-2.06-.94-.94-2.06-.94 2.06-2.06.94z\"/><path d=\"M17.41 7.96l-1.37-1.37c-.4-.4-.92-.59-1.43-.59-.52 0-1.04.2-1.43.59L10.3 9.45l-7.72 7.72c-.78.78-.78 2.05 0 2.83L4 21.41c.39.39.9.59 1.41.59.51 0 1.02-.2 1.41-.59l7.78-7.78 2.81-2.81c.8-.78.8-2.07 0-2.86zM5.41 20L4 18.59l7.72-7.72 1.47 1.35L5.41 20z\"/>\n",
              "  </svg>\n",
              "      </button>\n",
              "      \n",
              "  <style>\n",
              "    .colab-df-container {\n",
              "      display:flex;\n",
              "      flex-wrap:wrap;\n",
              "      gap: 12px;\n",
              "    }\n",
              "\n",
              "    .colab-df-convert {\n",
              "      background-color: #E8F0FE;\n",
              "      border: none;\n",
              "      border-radius: 50%;\n",
              "      cursor: pointer;\n",
              "      display: none;\n",
              "      fill: #1967D2;\n",
              "      height: 32px;\n",
              "      padding: 0 0 0 0;\n",
              "      width: 32px;\n",
              "    }\n",
              "\n",
              "    .colab-df-convert:hover {\n",
              "      background-color: #E2EBFA;\n",
              "      box-shadow: 0px 1px 2px rgba(60, 64, 67, 0.3), 0px 1px 3px 1px rgba(60, 64, 67, 0.15);\n",
              "      fill: #174EA6;\n",
              "    }\n",
              "\n",
              "    [theme=dark] .colab-df-convert {\n",
              "      background-color: #3B4455;\n",
              "      fill: #D2E3FC;\n",
              "    }\n",
              "\n",
              "    [theme=dark] .colab-df-convert:hover {\n",
              "      background-color: #434B5C;\n",
              "      box-shadow: 0px 1px 3px 1px rgba(0, 0, 0, 0.15);\n",
              "      filter: drop-shadow(0px 1px 2px rgba(0, 0, 0, 0.3));\n",
              "      fill: #FFFFFF;\n",
              "    }\n",
              "  </style>\n",
              "\n",
              "      <script>\n",
              "        const buttonEl =\n",
              "          document.querySelector('#df-82ea552d-31be-4c9a-81ee-a565444fe754 button.colab-df-convert');\n",
              "        buttonEl.style.display =\n",
              "          google.colab.kernel.accessAllowed ? 'block' : 'none';\n",
              "\n",
              "        async function convertToInteractive(key) {\n",
              "          const element = document.querySelector('#df-82ea552d-31be-4c9a-81ee-a565444fe754');\n",
              "          const dataTable =\n",
              "            await google.colab.kernel.invokeFunction('convertToInteractive',\n",
              "                                                     [key], {});\n",
              "          if (!dataTable) return;\n",
              "\n",
              "          const docLinkHtml = 'Like what you see? Visit the ' +\n",
              "            '<a target=\"_blank\" href=https://colab.research.google.com/notebooks/data_table.ipynb>data table notebook</a>'\n",
              "            + ' to learn more about interactive tables.';\n",
              "          element.innerHTML = '';\n",
              "          dataTable['output_type'] = 'display_data';\n",
              "          await google.colab.output.renderOutput(dataTable, element);\n",
              "          const docLink = document.createElement('div');\n",
              "          docLink.innerHTML = docLinkHtml;\n",
              "          element.appendChild(docLink);\n",
              "        }\n",
              "      </script>\n",
              "    </div>\n",
              "  </div>\n",
              "  "
            ],
            "text/plain": [
              "   Pregnancies  Glucose  BloodPressure  ...  DiabetesPedigreeFunction  Age  Outcome\n",
              "0            6      148             72  ...                     0.627   50        1\n",
              "1            1       85             66  ...                     0.351   31        0\n",
              "2            8      183             64  ...                     0.672   32        1\n",
              "3            1       89             66  ...                     0.167   21        0\n",
              "4            0      137             40  ...                     2.288   33        1\n",
              "5            5      116             74  ...                     0.201   30        0\n",
              "6            3       78             50  ...                     0.248   26        1\n",
              "7           10      115              0  ...                     0.134   29        0\n",
              "8            2      197             70  ...                     0.158   53        1\n",
              "9            8      125             96  ...                     0.232   54        1\n",
              "\n",
              "[10 rows x 9 columns]"
            ]
          },
          "metadata": {},
          "execution_count": 4
        }
      ]
    },
    {
      "cell_type": "code",
      "source": [
        "cont_columns = ['Pregnancies', 'Glucose', 'BloodPressure', 'SkinThickness',\n",
        "                     'Insulin', 'BMI', 'DiabetesPedigreeFunction', 'Age']\n",
        "target_attribute = 'Outcome'"
      ],
      "metadata": {
        "id": "zu6_gfGvJBz5"
      },
      "execution_count": null,
      "outputs": []
    },
    {
      "cell_type": "code",
      "source": [
        "x = df[cont_columns].to_numpy()\n",
        "y = df[target_attribute].to_numpy()\n",
        "train_x, test_x, train_y, test_y = train_test_split(x, y, test_size=0.3)"
      ],
      "metadata": {
        "id": "mU98RcpsIx17"
      },
      "execution_count": null,
      "outputs": []
    },
    {
      "cell_type": "code",
      "source": [
        "scaler = StandardScaler()\n",
        "\n",
        "def preprocess_data(data, train=False):\n",
        "  if train:\n",
        "    scaler.fit(data)\n",
        "    \n",
        "  data = scaler.transform(data)\n",
        "  return data\n"
      ],
      "metadata": {
        "id": "cIAXuTmLKKUC"
      },
      "execution_count": null,
      "outputs": []
    },
    {
      "cell_type": "code",
      "source": [
        "train_x = preprocess_data(train_x, train=True)\n",
        "test_x = preprocess_data(test_x)"
      ],
      "metadata": {
        "id": "adTXfBF6Qaxz"
      },
      "execution_count": null,
      "outputs": []
    },
    {
      "cell_type": "code",
      "source": [
        "model = tf.keras.Sequential([\n",
        "    layers.Input(train_x.shape[1]),\n",
        "    layers.Dense(units=16, activation='relu'),\n",
        "    layers.Dense(units=8, activation='relu'),\n",
        "    layers.Dense(units=1, activation='sigmoid'),\n",
        "])\n",
        "\n",
        "model.summary()"
      ],
      "metadata": {
        "colab": {
          "base_uri": "https://localhost:8080/"
        },
        "id": "26On0tB7W3n3",
        "outputId": "be6c339d-2400-4ac6-b2bc-4b0b695c3477"
      },
      "execution_count": null,
      "outputs": [
        {
          "output_type": "stream",
          "name": "stdout",
          "text": [
            "Model: \"sequential\"\n",
            "_________________________________________________________________\n",
            " Layer (type)                Output Shape              Param #   \n",
            "=================================================================\n",
            " dense (Dense)               (None, 16)                144       \n",
            "                                                                 \n",
            " dense_1 (Dense)             (None, 8)                 136       \n",
            "                                                                 \n",
            " dense_2 (Dense)             (None, 1)                 9         \n",
            "                                                                 \n",
            "=================================================================\n",
            "Total params: 289\n",
            "Trainable params: 289\n",
            "Non-trainable params: 0\n",
            "_________________________________________________________________\n"
          ]
        }
      ]
    },
    {
      "cell_type": "code",
      "source": [
        "model.compile(optimizer='adam',loss='binary_crossentropy',metrics=['accuracy'])"
      ],
      "metadata": {
        "id": "ymEeeODqXuI8"
      },
      "execution_count": null,
      "outputs": []
    },
    {
      "cell_type": "code",
      "source": [
        "callbacks = [tf.keras.callbacks.ModelCheckpoint('/content/transfer_learning_weights.h5', monitor='val_acc', save_best_only=True),\n",
        "             tf.keras.callbacks.EarlyStopping(monitor='val_loss', patience=4, verbose=1, mode = 'min'), \n",
        "             tf.keras.callbacks.ReduceLROnPlateau(monitor=\"val_loss\", mode = \"min\", patience=2)]\n",
        "    \n",
        "history = model.fit(train_x, train_y, epochs=500, batch_size=16, verbose=1, validation_split = 0.2, callbacks = callbacks)"
      ],
      "metadata": {
        "colab": {
          "base_uri": "https://localhost:8080/"
        },
        "id": "w8E2dOBWYjh6",
        "outputId": "a52cc408-cc26-4c10-b3c9-a90df275ca61"
      },
      "execution_count": null,
      "outputs": [
        {
          "output_type": "stream",
          "name": "stdout",
          "text": [
            "Epoch 1/500\n",
            " 1/27 [>.............................] - ETA: 18s - loss: 0.6797 - accuracy: 0.5625WARNING:tensorflow:Can save best model only with val_acc available, skipping.\n",
            "27/27 [==============================] - 1s 10ms/step - loss: 0.6290 - accuracy: 0.6434 - val_loss: 0.5386 - val_accuracy: 0.7222 - lr: 0.0010\n",
            "Epoch 2/500\n",
            " 1/27 [>.............................] - ETA: 0s - loss: 0.5262 - accuracy: 0.8125WARNING:tensorflow:Can save best model only with val_acc available, skipping.\n",
            "27/27 [==============================] - 0s 3ms/step - loss: 0.5948 - accuracy: 0.6550 - val_loss: 0.5128 - val_accuracy: 0.7407 - lr: 0.0010\n",
            "Epoch 3/500\n",
            " 1/27 [>.............................] - ETA: 0s - loss: 0.6400 - accuracy: 0.5625WARNING:tensorflow:Can save best model only with val_acc available, skipping.\n",
            "27/27 [==============================] - 0s 3ms/step - loss: 0.5709 - accuracy: 0.6597 - val_loss: 0.4968 - val_accuracy: 0.7407 - lr: 0.0010\n",
            "Epoch 4/500\n",
            " 1/27 [>.............................] - ETA: 0s - loss: 0.5176 - accuracy: 0.7500WARNING:tensorflow:Can save best model only with val_acc available, skipping.\n",
            "27/27 [==============================] - 0s 3ms/step - loss: 0.5547 - accuracy: 0.6690 - val_loss: 0.4822 - val_accuracy: 0.7407 - lr: 0.0010\n",
            "Epoch 5/500\n",
            " 1/27 [>.............................] - ETA: 0s - loss: 0.4735 - accuracy: 0.8125WARNING:tensorflow:Can save best model only with val_acc available, skipping.\n",
            "27/27 [==============================] - 0s 3ms/step - loss: 0.5398 - accuracy: 0.6923 - val_loss: 0.4769 - val_accuracy: 0.7593 - lr: 0.0010\n",
            "Epoch 6/500\n",
            " 1/27 [>.............................] - ETA: 0s - loss: 0.6189 - accuracy: 0.6875WARNING:tensorflow:Can save best model only with val_acc available, skipping.\n",
            "27/27 [==============================] - 0s 3ms/step - loss: 0.5311 - accuracy: 0.7086 - val_loss: 0.4713 - val_accuracy: 0.7593 - lr: 0.0010\n",
            "Epoch 7/500\n",
            " 1/27 [>.............................] - ETA: 0s - loss: 0.4887 - accuracy: 0.7500WARNING:tensorflow:Can save best model only with val_acc available, skipping.\n",
            "27/27 [==============================] - 0s 4ms/step - loss: 0.5238 - accuracy: 0.7086 - val_loss: 0.4652 - val_accuracy: 0.7778 - lr: 0.0010\n",
            "Epoch 8/500\n",
            " 1/27 [>.............................] - ETA: 0s - loss: 0.5100 - accuracy: 0.6250WARNING:tensorflow:Can save best model only with val_acc available, skipping.\n",
            "27/27 [==============================] - 0s 3ms/step - loss: 0.5174 - accuracy: 0.7110 - val_loss: 0.4613 - val_accuracy: 0.7593 - lr: 0.0010\n",
            "Epoch 9/500\n",
            "25/27 [==========================>...] - ETA: 0s - loss: 0.5185 - accuracy: 0.7075WARNING:tensorflow:Can save best model only with val_acc available, skipping.\n",
            "27/27 [==============================] - 0s 5ms/step - loss: 0.5121 - accuracy: 0.7156 - val_loss: 0.4588 - val_accuracy: 0.7685 - lr: 0.0010\n",
            "Epoch 10/500\n",
            " 1/27 [>.............................] - ETA: 0s - loss: 0.6566 - accuracy: 0.3750WARNING:tensorflow:Can save best model only with val_acc available, skipping.\n",
            "27/27 [==============================] - 0s 3ms/step - loss: 0.5083 - accuracy: 0.7179 - val_loss: 0.4575 - val_accuracy: 0.7685 - lr: 0.0010\n",
            "Epoch 11/500\n",
            " 1/27 [>.............................] - ETA: 0s - loss: 0.5200 - accuracy: 0.7500WARNING:tensorflow:Can save best model only with val_acc available, skipping.\n",
            "27/27 [==============================] - 0s 3ms/step - loss: 0.5053 - accuracy: 0.7343 - val_loss: 0.4580 - val_accuracy: 0.7500 - lr: 0.0010\n",
            "Epoch 12/500\n",
            " 1/27 [>.............................] - ETA: 0s - loss: 0.6691 - accuracy: 0.5000WARNING:tensorflow:Can save best model only with val_acc available, skipping.\n",
            "27/27 [==============================] - 0s 3ms/step - loss: 0.5010 - accuracy: 0.7343 - val_loss: 0.4539 - val_accuracy: 0.7593 - lr: 0.0010\n",
            "Epoch 13/500\n",
            " 1/27 [>.............................] - ETA: 0s - loss: 0.4540 - accuracy: 0.7500WARNING:tensorflow:Can save best model only with val_acc available, skipping.\n",
            "27/27 [==============================] - 0s 3ms/step - loss: 0.4977 - accuracy: 0.7413 - val_loss: 0.4513 - val_accuracy: 0.7593 - lr: 0.0010\n",
            "Epoch 14/500\n",
            "23/27 [========================>.....] - ETA: 0s - loss: 0.5053 - accuracy: 0.7500WARNING:tensorflow:Can save best model only with val_acc available, skipping.\n",
            "27/27 [==============================] - 0s 5ms/step - loss: 0.4945 - accuracy: 0.7576 - val_loss: 0.4502 - val_accuracy: 0.7685 - lr: 0.0010\n",
            "Epoch 15/500\n",
            "24/27 [=========================>....] - ETA: 0s - loss: 0.4975 - accuracy: 0.7396WARNING:tensorflow:Can save best model only with val_acc available, skipping.\n",
            "27/27 [==============================] - 0s 7ms/step - loss: 0.4919 - accuracy: 0.7552 - val_loss: 0.4496 - val_accuracy: 0.7778 - lr: 0.0010\n",
            "Epoch 16/500\n",
            "17/27 [=================>............] - ETA: 0s - loss: 0.4878 - accuracy: 0.7500WARNING:tensorflow:Can save best model only with val_acc available, skipping.\n",
            "27/27 [==============================] - 0s 6ms/step - loss: 0.4894 - accuracy: 0.7506 - val_loss: 0.4483 - val_accuracy: 0.7778 - lr: 0.0010\n",
            "Epoch 17/500\n",
            "19/27 [====================>.........] - ETA: 0s - loss: 0.5113 - accuracy: 0.7303WARNING:tensorflow:Can save best model only with val_acc available, skipping.\n",
            "27/27 [==============================] - 0s 5ms/step - loss: 0.4864 - accuracy: 0.7552 - val_loss: 0.4463 - val_accuracy: 0.7870 - lr: 0.0010\n",
            "Epoch 18/500\n",
            "23/27 [========================>.....] - ETA: 0s - loss: 0.4998 - accuracy: 0.7391WARNING:tensorflow:Can save best model only with val_acc available, skipping.\n",
            "27/27 [==============================] - 0s 4ms/step - loss: 0.4836 - accuracy: 0.7552 - val_loss: 0.4450 - val_accuracy: 0.7778 - lr: 0.0010\n",
            "Epoch 19/500\n",
            "24/27 [=========================>....] - ETA: 0s - loss: 0.4816 - accuracy: 0.7604WARNING:tensorflow:Can save best model only with val_acc available, skipping.\n",
            "27/27 [==============================] - 0s 4ms/step - loss: 0.4801 - accuracy: 0.7622 - val_loss: 0.4425 - val_accuracy: 0.7870 - lr: 0.0010\n",
            "Epoch 20/500\n",
            "19/27 [====================>.........] - ETA: 0s - loss: 0.4565 - accuracy: 0.7763WARNING:tensorflow:Can save best model only with val_acc available, skipping.\n",
            "27/27 [==============================] - 0s 5ms/step - loss: 0.4770 - accuracy: 0.7762 - val_loss: 0.4406 - val_accuracy: 0.7778 - lr: 0.0010\n",
            "Epoch 21/500\n",
            "23/27 [========================>.....] - ETA: 0s - loss: 0.4800 - accuracy: 0.7690WARNING:tensorflow:Can save best model only with val_acc available, skipping.\n",
            "27/27 [==============================] - 0s 4ms/step - loss: 0.4744 - accuracy: 0.7646 - val_loss: 0.4390 - val_accuracy: 0.7778 - lr: 0.0010\n",
            "Epoch 22/500\n",
            "23/27 [========================>.....] - ETA: 0s - loss: 0.4685 - accuracy: 0.7826WARNING:tensorflow:Can save best model only with val_acc available, skipping.\n",
            "27/27 [==============================] - 0s 4ms/step - loss: 0.4722 - accuracy: 0.7832 - val_loss: 0.4358 - val_accuracy: 0.7870 - lr: 0.0010\n",
            "Epoch 23/500\n",
            "20/27 [=====================>........] - ETA: 0s - loss: 0.4741 - accuracy: 0.7812WARNING:tensorflow:Can save best model only with val_acc available, skipping.\n",
            "27/27 [==============================] - 0s 5ms/step - loss: 0.4688 - accuracy: 0.7855 - val_loss: 0.4371 - val_accuracy: 0.7778 - lr: 0.0010\n",
            "Epoch 24/500\n",
            "20/27 [=====================>........] - ETA: 0s - loss: 0.4766 - accuracy: 0.7719WARNING:tensorflow:Can save best model only with val_acc available, skipping.\n",
            "27/27 [==============================] - 0s 5ms/step - loss: 0.4668 - accuracy: 0.7786 - val_loss: 0.4325 - val_accuracy: 0.7870 - lr: 0.0010\n",
            "Epoch 25/500\n",
            "26/27 [===========================>..] - ETA: 0s - loss: 0.4641 - accuracy: 0.7885WARNING:tensorflow:Can save best model only with val_acc available, skipping.\n",
            "27/27 [==============================] - 0s 6ms/step - loss: 0.4650 - accuracy: 0.7855 - val_loss: 0.4311 - val_accuracy: 0.7870 - lr: 0.0010\n",
            "Epoch 26/500\n",
            "12/27 [============>.................] - ETA: 0s - loss: 0.4565 - accuracy: 0.8021WARNING:tensorflow:Can save best model only with val_acc available, skipping.\n",
            "27/27 [==============================] - 0s 6ms/step - loss: 0.4618 - accuracy: 0.7786 - val_loss: 0.4315 - val_accuracy: 0.7870 - lr: 0.0010\n",
            "Epoch 27/500\n",
            "20/27 [=====================>........] - ETA: 0s - loss: 0.4465 - accuracy: 0.7969WARNING:tensorflow:Can save best model only with val_acc available, skipping.\n",
            "27/27 [==============================] - 0s 5ms/step - loss: 0.4599 - accuracy: 0.7832 - val_loss: 0.4335 - val_accuracy: 0.7778 - lr: 0.0010\n",
            "Epoch 28/500\n",
            "24/27 [=========================>....] - ETA: 0s - loss: 0.4621 - accuracy: 0.7865WARNING:tensorflow:Can save best model only with val_acc available, skipping.\n",
            "27/27 [==============================] - 0s 4ms/step - loss: 0.4565 - accuracy: 0.7786 - val_loss: 0.4324 - val_accuracy: 0.7778 - lr: 1.0000e-04\n",
            "Epoch 29/500\n",
            "23/27 [========================>.....] - ETA: 0s - loss: 0.4560 - accuracy: 0.7908WARNING:tensorflow:Can save best model only with val_acc available, skipping.\n",
            "27/27 [==============================] - 0s 5ms/step - loss: 0.4562 - accuracy: 0.7786 - val_loss: 0.4320 - val_accuracy: 0.7778 - lr: 1.0000e-04\n",
            "Epoch 00029: early stopping\n"
          ]
        }
      ]
    },
    {
      "cell_type": "code",
      "source": [
        "history.history.keys()"
      ],
      "metadata": {
        "colab": {
          "base_uri": "https://localhost:8080/"
        },
        "id": "XF750QFUOUHP",
        "outputId": "893e7a6a-f5c2-45f3-ce91-e1604de6f539"
      },
      "execution_count": null,
      "outputs": [
        {
          "output_type": "execute_result",
          "data": {
            "text/plain": [
              "dict_keys(['loss', 'accuracy', 'val_loss', 'val_accuracy', 'lr'])"
            ]
          },
          "metadata": {},
          "execution_count": 15
        }
      ]
    },
    {
      "cell_type": "code",
      "source": [
        "plt.plot(history.history['accuracy'])\n",
        "plt.plot(history.history['val_accuracy'])\n",
        "plt.title('Model Accuracy')\n",
        "plt.ylabel('accuracy')\n",
        "plt.xlabel('Epoch')\n",
        "plt.legend(['train', 'validation'], loc='lower right')\n",
        "plt.show()"
      ],
      "metadata": {
        "colab": {
          "base_uri": "https://localhost:8080/",
          "height": 295
        },
        "id": "Gr67TuB5YvFB",
        "outputId": "7d688e94-6ab9-4e76-baf7-bb72ce801891"
      },
      "execution_count": null,
      "outputs": [
        {
          "output_type": "display_data",
          "data": {
            "image/png": "[encoded data removed]",
            "text/plain": [
              "<Figure size 432x288 with 1 Axes>"
            ]
          },
          "metadata": {
            "needs_background": "light"
          }
        }
      ]
    },
    {
      "cell_type": "code",
      "source": [
        "model.evaluate(test_x, test_y)  "
      ],
      "metadata": {
        "id": "0vMU7Zyzau8e",
        "colab": {
          "base_uri": "https://localhost:8080/"
        },
        "outputId": "55b0923d-a807-47ff-87b6-d1b54a381f63"
      },
      "execution_count": null,
      "outputs": [
        {
          "output_type": "stream",
          "name": "stdout",
          "text": [
            "8/8 [==============================] - 0s 3ms/step - loss: 0.4879 - accuracy: 0.7965\n"
          ]
        },
        {
          "output_type": "execute_result",
          "data": {
            "text/plain": [
              "[0.48785391449928284, 0.7965368032455444]"
            ]
          },
          "metadata": {},
          "execution_count": 18
        }
      ]
    }
  ]
}